{
 "cells": [
  {
   "cell_type": "code",
   "execution_count": null,
   "id": "712b0fd9",
   "metadata": {},
   "outputs": [],
   "source": [
    "# SCRAPE ALL CONTENT FROM EACH OF A LIST OF COMPANY RELATED DOMAINS. BASED ON THIS TEXT CREATE A WORDCLOUD. \n",
    "# USE CASE: CREATE A COMPARISON BETWEEN DIFFERENT COMPANIES (IE COMPETITORS) AND HOW THEY DESCRIBE THEMSELVES (TO DISTIGUISH POTNETIAL DIFFERENTIATORS)\n",
    "\n"
   ]
  },
  {
   "cell_type": "code",
   "execution_count": null,
   "id": "3b696875",
   "metadata": {},
   "outputs": [],
   "source": [
    "from bs4 import BeautifulSoup \n",
    "import requests \n",
    "from tqdm import tqdm\n",
    "import numpy as np\n",
    "import pandas as pd\n",
    "from os import path\n",
    "from PIL import Image\n",
    "from wordcloud import WordCloud, STOPWORDS, ImageColorGenerator\n",
    "\n",
    "\n",
    "from selenium.webdriver.support.wait import WebDriverWait\n",
    "from selenium.webdriver.support import expected_conditions as EC\n",
    "from selenium import webdriver\n",
    "from selenium.webdriver.common.by import By\n",
    "from selenium.webdriver.common.keys import Keys"
   ]
  },
  {
   "cell_type": "code",
   "execution_count": null,
   "id": "84f350f2",
   "metadata": {},
   "outputs": [],
   "source": [
    "main_url_raw = \"\"\"STRING OF BASE DOMAINS SEPERATED BY \\n\"\"\""
   ]
  },
  {
   "cell_type": "code",
   "execution_count": null,
   "id": "bf265b11",
   "metadata": {},
   "outputs": [],
   "source": [
    "base = ['COMPANY NAMES SEPERATED BY \\n']"
   ]
  },
  {
   "cell_type": "code",
   "execution_count": null,
   "id": "73eebc3e",
   "metadata": {},
   "outputs": [],
   "source": [
    "main_urls = main_url_raw.split('\\n')"
   ]
  },
  {
   "cell_type": "code",
   "execution_count": null,
   "id": "865fb236",
   "metadata": {},
   "outputs": [],
   "source": [
    "driver = webdriver.Chrome()"
   ]
  },
  {
   "cell_type": "code",
   "execution_count": null,
   "id": "c3618c30",
   "metadata": {},
   "outputs": [],
   "source": [
    "def selenium_body(main_url, base):\n",
    "    whole_text = ''\n",
    "    driver.get(main_url)\n",
    "    \n",
    "    WebDriverWait(driver, 20).until(EC.presence_of_element_located((By.TAG_NAME, \"body\")))\n",
    "\n",
    "    text = driver.find_element(By.TAG_NAME, \"body\").text\n",
    "    whole_text += ' ' + text\n",
    "\n",
    "    lnk = driver.find_elements(By.TAG_NAME, \"a\")\n",
    "    already_run = [main_url]\n",
    "    urls = []\n",
    "    for l in lnk:\n",
    "        urls.append(l.get_attribute('href'))\n",
    "        \n",
    "    for url in urls:\n",
    "        if (base in dic['url']) & (not url in already_run):\n",
    "            already_run.append(url)\n",
    "            driver.get(url)\n",
    "            text = driver.find_element(By.TAG_NAME, \"body\").text\n",
    "            whole_text += ' ' + text\n",
    "\n",
    "    return whole_text"
   ]
  },
  {
   "cell_type": "code",
   "execution_count": null,
   "id": "d7f32020",
   "metadata": {},
   "outputs": [],
   "source": [
    "import time\n",
    "\n",
    "for ind, main_url in enumerate(main_urls):\n",
    "    base_ = base\n",
    "    \n",
    "    text = selenium_body(main_url, base_[ind])\n",
    "    time.sleep(2)\n",
    "    \n",
    "    whole_text = text.replace('\\n', ' ').replace('\\xa0', ' ')\n",
    "\n",
    "    whole_text = whole_text.replace('.', ' ')\n",
    "    rem_words = ['cookie', 'accept', 'von', 'der']\n",
    "    for i in rem_words:  \n",
    "        whole_text = whole_text.replace(i, ' ')\n",
    "\n",
    "    wordcloud = WordCloud(stopwords = STOPWORDS,\n",
    "                          max_font_size=30, \n",
    "                          min_font_size=10,\n",
    "                          max_words=1000,\n",
    "                          collocations=True,\n",
    "                          background_color='white').generate(whole_text)\n",
    "\n",
    "    wordcloud.to_file(f\"{base_[ind]}.png\")\n"
   ]
  },
  {
   "cell_type": "code",
   "execution_count": null,
   "id": "6d92c799",
   "metadata": {},
   "outputs": [],
   "source": [
    "import matplotlib.pyplot as plt\n",
    "\n",
    "wordcloud = WordCloud(stopwords = STOPWORDS,\n",
    "                      max_font_size=30, \n",
    "                      min_font_size=10,\n",
    "                      max_words=5000,\n",
    "                      collocations=True,\n",
    "                      background_color='white').generate(whole_text)\n",
    "\n",
    "plt.imshow(wordcloud, interpolation='bilinear')\n",
    "plt.axis(\"off\")\n",
    "plt.show()"
   ]
  },
  {
   "cell_type": "code",
   "execution_count": null,
   "id": "63ea766f",
   "metadata": {},
   "outputs": [],
   "source": []
  }
 ],
 "metadata": {
  "kernelspec": {
   "display_name": "Python 3 (ipykernel)",
   "language": "python",
   "name": "python3"
  },
  "language_info": {
   "codemirror_mode": {
    "name": "ipython",
    "version": 3
   },
   "file_extension": ".py",
   "mimetype": "text/x-python",
   "name": "python",
   "nbconvert_exporter": "python",
   "pygments_lexer": "ipython3",
   "version": "3.8.9"
  }
 },
 "nbformat": 4,
 "nbformat_minor": 5
}
